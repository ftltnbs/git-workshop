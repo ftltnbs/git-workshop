{
  "nbformat": 4,
  "nbformat_minor": 0,
  "metadata": {
    "colab": {
      "name": "Missing Chair.ipynb",
      "provenance": [],
      "authorship_tag": "ABX9TyOxcfjpLzA2sjt4rheMWHEl",
      "include_colab_link": true
    },
    "kernelspec": {
      "name": "python3",
      "display_name": "Python 3"
    },
    "language_info": {
      "name": "python"
    }
  },
  "cells": [
    {
      "cell_type": "markdown",
      "metadata": {
        "id": "view-in-github",
        "colab_type": "text"
      },
      "source": [
        "<a href=\"https://colab.research.google.com/github/ftltnbs/git-workshop/blob/master/Missing_Chair.ipynb\" target=\"_parent\"><img src=\"https://colab.research.google.com/assets/colab-badge.svg\" alt=\"Open In Colab\"/></a>"
      ]
    },
    {
      "cell_type": "code",
      "execution_count": null,
      "metadata": {
        "id": "SmqDn9QcKHw8"
      },
      "outputs": [],
      "source": [
        "def missing_char(word, n):\n",
        "  front = word[:n]   # up to but not including n\n",
        "  back = word[n+1:]  # n+1 through end of string\n",
        "  return front + back"
      ]
    }
  ]
}