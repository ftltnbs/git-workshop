{
  "nbformat": 4,
  "nbformat_minor": 0,
  "metadata": {
    "colab": {
      "name": "Ref.helloname.ipynb",
      "provenance": [],
      "authorship_tag": "ABX9TyMgDNyMMI+1EpTOTrrg9VOz",
      "include_colab_link": true
    },
    "kernelspec": {
      "name": "python3",
      "display_name": "Python 3"
    },
    "language_info": {
      "name": "python"
    }
  },
  "cells": [
    {
      "cell_type": "markdown",
      "metadata": {
        "id": "view-in-github",
        "colab_type": "text"
      },
      "source": [
        "<a href=\"https://colab.research.google.com/github/ftltnbs/git-workshop/blob/master/Ref_helloname.ipynb\" target=\"_parent\"><img src=\"https://colab.research.google.com/assets/colab-badge.svg\" alt=\"Open In Colab\"/></a>"
      ]
    },
    {
      "cell_type": "code",
      "execution_count": null,
      "metadata": {
        "id": "SmqDn9QcKHw8"
      },
      "outputs": [],
      "source": [
        "def greet(name):\n",
        "    \"\"\"\n",
        "    This function greets to\n",
        "    the person passed in as\n",
        "    a parameter\n",
        "    \"\"\"\n",
        "    print(\"Hello, \" + name + \". Good morning!\")\n",
        "\n",
        "greet('FUAT')"
      ]
    }
  ]
}